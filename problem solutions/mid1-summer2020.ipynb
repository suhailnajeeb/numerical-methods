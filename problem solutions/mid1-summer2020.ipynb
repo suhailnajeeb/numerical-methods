{
 "cells": [
  {
   "cell_type": "code",
   "execution_count": null,
   "metadata": {},
   "outputs": [],
   "source": [
    "# Library Functions: \n",
    "\n",
    "import numpy as np\n",
    "import matplotlib.pyplot as plt\n",
    "\n",
    "def bob_math(r1, r1_t, r2, r2_t):\n",
    "    r1_te = r1_t - r1\n",
    "    r1_pe = r1_te/r1_t*100\n",
    "    r2_te = r2_t - r2\n",
    "    r2_pe = r2_te/r2_t*100\n",
    "    print('True error of Rod 1: ', r1_te)\n",
    "    print('Percent True error of Rod 1: ', r1_pe)\n",
    "    print('True error of Rod 2: ', r2_te)\n",
    "    print('Percent True error of Rod 2: ', r2_pe)\n",
    "\n",
    "f = lambda x: np.sin(x - 6) + np.cos(np.sqrt(3)*(x-6))\n",
    "\n",
    "def plot_f():\n",
    "    t = np.linspace(0, 15, 100)\n",
    "    y = np.asarray([f(x) for x in t])\n",
    "    c = np.zeros(t.shape)\n",
    "    plt.plot(t, y)\n",
    "    plt.plot(t, c)\n",
    "    \n",
    "def bisection_step(xl, xu):\n",
    "    print(\"xl = %f, xu = %f\"%(xl, xu))\n",
    "    xr = (xl + xu)/2\n",
    "    print(\"xr = \", xr)\n",
    "    print(\"f(xl) = \", f(xl))\n",
    "    print(\"f(xr) = \", f(xr))\n",
    "    print(\"f(xl)*f(xr) = \", f(xl)*f(xr))\n",
    "    # Bisection Step:\n",
    "    if(f(xl)*f(xr) > 0):\n",
    "        xl = xr\n",
    "        print('Since f(xl)*f(xr) > 0, xl = xr = ', xr)\n",
    "    else:\n",
    "        xu = xr\n",
    "        print('Since f(xl)*f(xr) < 0, xu = xr = ', xr)\n",
    "    return xl, xu\n",
    "\n",
    "def secant_step(g, xim1, xi):\n",
    "    print('f(x(i-1))', g(xim1))\n",
    "    print('f(x(i))', g(xi))\n",
    "    xip1 = xi - g(xi)*(xim1 - xi)/(g(xim1)- g(xi))\n",
    "    print('x(i+1) = ', xip1)\n",
    "    return xip1\n",
    "\n",
    "def newton_step(f, df, xi):\n",
    "    print(\"f(xi) = \", f(xi))\n",
    "    print(\"f'(xi) = \", df(xi))\n",
    "    xip1 = xi - f(xi)/df(xi)\n",
    "    print(\"x(i+1) = \", xip1)\n",
    "    return xip1\n",
    "\n",
    "def approx_error(xip1, xi):\n",
    "    print(\"Approximate error for step: %.2f\"%((xip1-xi)/xip1*100))"
   ]
  },
  {
   "cell_type": "markdown",
   "metadata": {},
   "source": [
    "### Question 6: (Bob the Builder Question)"
   ]
  },
  {
   "cell_type": "code",
   "execution_count": null,
   "metadata": {},
   "outputs": [],
   "source": [
    "r1 = 62.3\n",
    "r1_t =  62\n",
    "r2 = 108.4\n",
    "r2_t = 108"
   ]
  },
  {
   "cell_type": "code",
   "execution_count": 44,
   "metadata": {},
   "outputs": [],
   "source": [
    "r1 = 68.2\n",
    "r1_t =  58\n",
    "r2 = 109.7\n",
    "r2_t = 110"
   ]
  },
  {
   "cell_type": "code",
   "execution_count": null,
   "metadata": {},
   "outputs": [],
   "source": [
    "r1 = 32.3\n",
    "r1_t =  32\n",
    "r2 = 64.4\n",
    "r2_t = 64"
   ]
  },
  {
   "cell_type": "code",
   "execution_count": 45,
   "metadata": {},
   "outputs": [
    {
     "name": "stdout",
     "output_type": "stream",
     "text": [
      "True error of Rod 1:  -10.200000000000003\n",
      "Percent True error of Rod 1:  -17.58620689655173\n",
      "True error of Rod 2:  0.29999999999999716\n",
      "Percent True error of Rod 2:  0.27272727272727015\n"
     ]
    }
   ],
   "source": [
    "bob_math(r1, r1_t, r2, r2_t)"
   ]
  },
  {
   "cell_type": "markdown",
   "metadata": {},
   "source": [
    "### Question 7: (Bisection Method Problem)"
   ]
  },
  {
   "cell_type": "code",
   "execution_count": null,
   "metadata": {},
   "outputs": [],
   "source": [
    "xl = 2\n",
    "xu = 4"
   ]
  },
  {
   "cell_type": "code",
   "execution_count": null,
   "metadata": {},
   "outputs": [],
   "source": [
    "xl = 11\n",
    "xu = 13"
   ]
  },
  {
   "cell_type": "code",
   "execution_count": null,
   "metadata": {},
   "outputs": [],
   "source": [
    "xl, xu = bisection_step(xl, xu)"
   ]
  },
  {
   "cell_type": "code",
   "execution_count": null,
   "metadata": {},
   "outputs": [],
   "source": [
    "xl, xu = bisection_step(xl, xu)"
   ]
  },
  {
   "cell_type": "code",
   "execution_count": null,
   "metadata": {},
   "outputs": [],
   "source": [
    "xl, xu = bisection_step(xl, xu)"
   ]
  },
  {
   "cell_type": "code",
   "execution_count": null,
   "metadata": {},
   "outputs": [],
   "source": [
    "xl, xu = bisection_step(xl, xu)"
   ]
  },
  {
   "cell_type": "markdown",
   "metadata": {},
   "source": [
    "### Question 8: (Secant Method Problem)"
   ]
  },
  {
   "cell_type": "code",
   "execution_count": null,
   "metadata": {},
   "outputs": [],
   "source": [
    "g = lambda x: 2*x**3 - 5*x**2 - 6*x + 2\n",
    "xim1 = 4\n",
    "xi = 3.9"
   ]
  },
  {
   "cell_type": "code",
   "execution_count": null,
   "metadata": {},
   "outputs": [],
   "source": [
    "g = lambda x: 2*x**3 - 5*x**2 - 6*x + 2\n",
    "xim1 = 0\n",
    "xi = 0.1"
   ]
  },
  {
   "cell_type": "code",
   "execution_count": null,
   "metadata": {},
   "outputs": [],
   "source": [
    "g = lambda x: x**3 - 6*x**2 + 4*x + 12\n",
    "xim1 = 4\n",
    "xi = 4.1"
   ]
  },
  {
   "cell_type": "code",
   "execution_count": 46,
   "metadata": {},
   "outputs": [],
   "source": [
    "g = lambda x: x**3 - 6*x**2 + 4*x + 12\n",
    "xim1 = 1\n",
    "xi = 1.5"
   ]
  },
  {
   "cell_type": "code",
   "execution_count": 47,
   "metadata": {},
   "outputs": [
    {
     "name": "stdout",
     "output_type": "stream",
     "text": [
      "f(x(i-1)) 11\n",
      "f(x(i)) 7.875\n",
      "x(i+1) =  2.76\n",
      "Approximate error for step: 45.65\n"
     ]
    }
   ],
   "source": [
    "xip1 = secant_step(g, xim1, xi)\n",
    "approx_error(xip1, xi)\n",
    "xim1 = xi\n",
    "xi = xip1"
   ]
  },
  {
   "cell_type": "code",
   "execution_count": 48,
   "metadata": {},
   "outputs": [
    {
     "name": "stdout",
     "output_type": "stream",
     "text": [
      "f(x(i-1)) 7.875\n",
      "f(x(i)) -1.6410239999999945\n",
      "x(i+1) =  2.5427148985752877\n",
      "Approximate error for step: -8.55\n"
     ]
    }
   ],
   "source": [
    "xip1 = secant_step(g, xim1, xi)\n",
    "approx_error(xip1, xi)\n",
    "xim1 = xi\n",
    "xi = xip1"
   ]
  },
  {
   "cell_type": "code",
   "execution_count": 49,
   "metadata": {},
   "outputs": [
    {
     "name": "stdout",
     "output_type": "stream",
     "text": [
      "f(x(i-1)) -1.6410239999999945\n",
      "f(x(i)) -0.18186823482568748\n",
      "x(i+1) =  2.515632623472662\n",
      "Approximate error for step: -1.08\n"
     ]
    }
   ],
   "source": [
    "xip1 = secant_step(g, xim1, xi)\n",
    "approx_error(xip1, xi)\n",
    "xim1 = xi\n",
    "xi = xip1"
   ]
  },
  {
   "cell_type": "code",
   "execution_count": 50,
   "metadata": {},
   "outputs": [
    {
     "name": "stdout",
     "output_type": "stream",
     "text": [
      "f(x(i-1)) -0.18186823482568748\n",
      "f(x(i)) 0.012033868481744037\n",
      "x(i+1) =  2.5173133919182455\n",
      "Approximate error for step: 0.07\n"
     ]
    }
   ],
   "source": [
    "xip1 = secant_step(g, xim1, xi)\n",
    "approx_error(xip1, xi)\n",
    "xim1 = xi\n",
    "xi = xip1"
   ]
  },
  {
   "cell_type": "markdown",
   "metadata": {},
   "source": [
    "### Question 8 (Newton-Raphson Problem)"
   ]
  },
  {
   "cell_type": "code",
   "execution_count": 37,
   "metadata": {},
   "outputs": [],
   "source": [
    "f = lambda x: x**3 - 6*x**2 + 4*x + 12\n",
    "df = lambda x: 3*x**2 + 12*x + 4\n",
    "xi = 4"
   ]
  },
  {
   "cell_type": "code",
   "execution_count": 38,
   "metadata": {},
   "outputs": [
    {
     "name": "stdout",
     "output_type": "stream",
     "text": [
      "f(xi) =  -4\n",
      "f'(xi) =  100\n",
      "x(i+1) =  4.04\n",
      "Approximate error for step: 0.99\n"
     ]
    }
   ],
   "source": [
    "x0 = xi\n",
    "xi = newton_step(f, df, xi)\n",
    "approx_error(xi, x0)"
   ]
  },
  {
   "cell_type": "code",
   "execution_count": 39,
   "metadata": {},
   "outputs": [
    {
     "name": "stdout",
     "output_type": "stream",
     "text": [
      "f(xi) =  -3.830335999999985\n",
      "f'(xi) =  101.4448\n",
      "x(i+1) =  4.077757834802769\n",
      "Approximate error for step: 0.93\n"
     ]
    }
   ],
   "source": [
    "x0 = xi\n",
    "xi = newton_step(f, df, xi)\n",
    "approx_error(xi, x0)"
   ]
  },
  {
   "cell_type": "code",
   "execution_count": 40,
   "metadata": {},
   "outputs": [
    {
     "name": "stdout",
     "output_type": "stream",
     "text": [
      "f(xi) =  -3.6522208298403243\n",
      "f'(xi) =  102.81742089551933\n",
      "x(i+1) =  4.113279255181049\n",
      "Approximate error for step: 0.86\n"
     ]
    }
   ],
   "source": [
    "x0 = xi\n",
    "xi = newton_step(f, df, xi)\n",
    "approx_error(xi, x0)"
   ]
  },
  {
   "cell_type": "code",
   "execution_count": 41,
   "metadata": {},
   "outputs": [
    {
     "name": "stdout",
     "output_type": "stream",
     "text": [
      "f(xi) =  -3.468436220463172\n",
      "f'(xi) =  104.11654975548089\n",
      "x(i+1) =  4.14659227053364\n",
      "Approximate error for step: 0.80\n"
     ]
    }
   ],
   "source": [
    "x0 = xi\n",
    "xi = newton_step(f, df, xi)\n",
    "approx_error(xi, x0)"
   ]
  },
  {
   "cell_type": "code",
   "execution_count": null,
   "metadata": {},
   "outputs": [],
   "source": []
  }
 ],
 "metadata": {
  "kernelspec": {
   "display_name": "Python 3",
   "language": "python",
   "name": "python3"
  },
  "language_info": {
   "codemirror_mode": {
    "name": "ipython",
    "version": 3
   },
   "file_extension": ".py",
   "mimetype": "text/x-python",
   "name": "python",
   "nbconvert_exporter": "python",
   "pygments_lexer": "ipython3",
   "version": "3.7.3"
  }
 },
 "nbformat": 4,
 "nbformat_minor": 4
}
